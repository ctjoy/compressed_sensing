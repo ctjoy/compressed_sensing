{
 "cells": [
  {
   "cell_type": "code",
   "execution_count": 24,
   "metadata": {
    "collapsed": true
   },
   "outputs": [],
   "source": [
    "import numpy as np\n",
    "from time import time"
   ]
  },
  {
   "cell_type": "code",
   "execution_count": 25,
   "metadata": {
    "collapsed": false
   },
   "outputs": [],
   "source": [
    "def omp(n, N, real_x):\n",
    "    sensing_matrix = np.random.randn(n, N)\n",
    "    sensing_matrix = sensing_matrix / sensing_matrix.max(axis=0)\n",
    "    b = sensing_matrix.dot(real_x)\n",
    "    x = np.zeros(N)\n",
    "    r = b\n",
    "    s = []\n",
    "    error = 1000\n",
    "    error_threshold = 0.01\n",
    "    iterate = 0\n",
    "    while error > error_threshold and iterate < 1000:\n",
    "        lambda_t = np.argmax(sensing_matrix[:, [i for i in range(N) if i not in s]].T.dot(r))\n",
    "        s.append(lambda_t)\n",
    "        A_t = sensing_matrix[:, s]\n",
    "        x_t = np.linalg.lstsq(A_t, b)[0]\n",
    "        a_t = A_t.dot(x_t.T)\n",
    "        r_t = b - a_t\n",
    "\n",
    "        error = r_t.T.dot(r_t)\n",
    "        iterate += 1\n",
    "    x[s] = 1\n",
    "    return x"
   ]
  },
  {
   "cell_type": "code",
   "execution_count": 26,
   "metadata": {
    "collapsed": false
   },
   "outputs": [
    {
     "name": "stdout",
     "output_type": "stream",
     "text": [
      "0\n",
      "Finish k=1, n=1 at 0.175195932388\n",
      "30\n",
      "Finish k=1, n=2 at 59.9284770489\n",
      "35\n",
      "Finish k=1, n=3 at 208.512785912\n",
      "34\n",
      "Finish k=1, n=4 at 504.985655069\n",
      "50\n",
      "Finish k=1, n=5 at 975.673771858\n",
      "62\n",
      "Finish k=1, n=6 at 1535.99044204\n",
      "128\n",
      "Finish k=1, n=7 at 2109.16793394\n",
      "202\n",
      "Finish k=1, n=8 at 2727.15250087\n",
      "291\n",
      "Finish k=1, n=9 at 3357.674963\n",
      "427\n",
      "Finish k=1, n=10 at 3569.63429189\n",
      "514\n",
      "Finish k=1, n=11 at 4130.48067403\n",
      "606\n",
      "Finish k=1, n=12 at 4503.92257094\n",
      "697\n",
      "Finish k=1, n=13 at 4725.78191686\n",
      "725\n",
      "Finish k=1, n=14 at 4957.13456297\n",
      "802\n",
      "Finish k=1, n=15 at 5121.26864386\n",
      "855\n",
      "Finish k=1, n=16 at 5294.73422503\n",
      "892\n",
      "Finish k=1, n=17 at 5407.09231687\n",
      "905\n",
      "Finish k=1, n=18 at 5514.28443789\n",
      "919\n",
      "Finish k=1, n=19 at 5569.28672004\n",
      "950\n",
      "Finish k=1, n=20 at 5627.22247291\n",
      "961\n",
      "Finish k=1, n=21 at 5669.94691396\n",
      "959\n",
      "Finish k=1, n=22 at 5702.44939208\n",
      "974\n",
      "Finish k=1, n=23 at 5739.88237906\n",
      "977\n",
      "Finish k=1, n=24 at 5761.91634798\n",
      "981\n",
      "Finish k=1, n=25 at 5767.84879398\n",
      "985\n",
      "Finish k=1, n=26 at 5778.61173105\n",
      "985\n",
      "Finish k=1, n=27 at 5797.87997007\n",
      "988\n",
      "Finish k=1, n=28 at 5808.84466696\n",
      "989\n",
      "Finish k=1, n=29 at 5837.36562705\n",
      "992\n",
      "Finish k=1, n=30 at 5843.15524292\n",
      "999\n",
      "Finish k=1, n=31 at 5843.49123502\n",
      "994\n",
      "Finish k=1, n=32 at 5843.84242487\n",
      "996\n",
      "Finish k=1, n=33 at 5854.76354885\n",
      "997\n",
      "Finish k=1, n=34 at 5865.23074603\n",
      "996\n",
      "Finish k=1, n=35 at 5871.68214488\n",
      "995\n",
      "Finish k=1, n=36 at 5887.32790399\n",
      "999\n",
      "Finish k=1, n=37 at 5887.70294905\n",
      "999\n",
      "Finish k=1, n=38 at 5888.10681701\n",
      "999\n",
      "Finish k=1, n=39 at 5888.48691702\n",
      "999\n",
      "Finish k=1, n=40 at 5888.88934588\n"
     ]
    }
   ],
   "source": [
    "bad_coin = []\n",
    "N = 100  #總共100個coin\n",
    "\n",
    "start = time()\n",
    "for k in range(1, 2):\n",
    "    for n in range(1, 41):\n",
    "        # 製造 real x\n",
    "        real_x = np.zeros(N)\n",
    "        real_x[np.random.randint(N, size=(k))] = 1\n",
    "        \n",
    "        test = [np.array_equal(omp(n, N, real_x), real_x) for i in range(1000)]\n",
    "        print np.sum(test)\n",
    "        bad_coin.append(np.mean(test))\n",
    "        print 'Finish k={}, n={} at {}'.format(k, n, time() - start)"
   ]
  },
  {
   "cell_type": "markdown",
   "metadata": {
    "collapsed": true
   },
   "source": [
    "$\\delta$"
   ]
  },
  {
   "cell_type": "code",
   "execution_count": null,
   "metadata": {
    "collapsed": true
   },
   "outputs": [],
   "source": []
  }
 ],
 "metadata": {
  "kernelspec": {
   "display_name": "Python 2",
   "language": "python",
   "name": "python2"
  },
  "language_info": {
   "codemirror_mode": {
    "name": "ipython",
    "version": 2
   },
   "file_extension": ".py",
   "mimetype": "text/x-python",
   "name": "python",
   "nbconvert_exporter": "python",
   "pygments_lexer": "ipython2",
   "version": "2.7.12"
  }
 },
 "nbformat": 4,
 "nbformat_minor": 1
}
